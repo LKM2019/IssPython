{
 "cells": [
  {
   "cell_type": "markdown",
   "metadata": {},
   "source": [
    "# Module 2:\n",
    "Make API call\n",
    "- Collect data from API &amp; store in csv\n",
    "- Scrape static websites &amp; store in csv\n",
    "---\n",
    "Scenario\n",
    "---\n",
    "\n",
    "1. You have been given a API with api documentation.\n",
    "2. Make api call from python & store the resp in a python dict\n",
    "2. (2A) *Optional*: Store the resp dict into a file (json)\n",
    "\n",
    "3. Parse the following info from the API Response.\n",
    "\n",
    "Example: URL \n",
    "\n",
    "https://min-api.cryptocompare.com/data/price?fsym=USD&tsyms=JPY,INR\n",
    "```\n",
    "{\n",
    "\"JPY\": 107.93,\n",
    "\"INR\": 84.82\n",
    "}\n",
    "```\n",
    "4. Store that parsed infomation/data into a csv file.\n",
    "\n",
    "| sno | from_symbol | to_symbol | price | datetime |\n",
    "| ---  | ---  | ---  | ---  | --- |\n",
    "| 1 | USD | INR | 71 | ... |\n",
    "| 2 | USD | SGD | 1.37| ... |\n",
    "\n",
    "use python `time` or `datetime` module to get the current time, when you make api call and store that into the csv file..\n",
    "\n",
    "\n",
    "## Part 2: Scrape static websites\n",
    "\n",
    "\n",
    "https://www.xe.com/currencyconverter/convert/?Amount=1&From=USD&To=SGD\n",
    "\n",
    "\n",
    "![https://i.imgur.com/C4Eub9d.png](https://i.imgur.com/C4Eub9d.png)\n",
    "\n",
    "\n",
    "\n",
    "Have a look at the html as well, to parse the exchange rate.\n",
    "\n",
    "![https://i.imgur.com/vDAntcv.png](https://i.imgur.com/vDAntcv.png)\n",
    "\n",
    "1. Look at the query parameter and decide how to pass inputs..\n",
    "2. Use `bs4` library to parse the html as show below.\n",
    "3. You have to extract the price shown here and save it into a csv file..\n",
    "\n",
    "| sno | from_symbol | to_symbol | price | datetime |\n",
    "| ---  | ---  | ---  | ---  | --- |\n",
    "| 1 | USD | SGD | 1.37| ... |\n",
    "\n",
    "--- \n",
    "\n",
    "\n",
    "** Try this if you completed the base workshop **\n",
    "---\n",
    "1. Store the same data into mongodb as well\n",
    "  - create a `exchange` db in your mlab account.\n",
    "  - create a collection `exchange-rates`\n",
    "  - You can store sample record which looks like the following json.\n",
    "\n",
    "```\n",
    "{\n",
    "    \"from_symbol\": \"USD\",\n",
    "    'to_symbol' : \"SGD\",\n",
    "    \"price\" : 1.37,\n",
    "    \"datetime\" : \"....\"\n",
    "}\n",
    "```"
   ]
  },
  {
   "cell_type": "code",
   "execution_count": 19,
   "metadata": {},
   "outputs": [],
   "source": [
    "# Part1\n",
    "def save_to_csv(content):\n",
    "    with open(r\"C:\\Users\\40203118\\Desktop\\Pydot23\\exchange_rate.csv\",mode=\"a\") as f:\n",
    "        csv_writer = csv.writer(f)\n",
    "        csv_writer.writerow(content)  \n",
    "#f.close()\n"
   ]
  },
  {
   "cell_type": "code",
   "execution_count": 30,
   "metadata": {},
   "outputs": [
    {
     "name": "stdout",
     "output_type": "stream",
     "text": [
      "enter From crrency\n",
      "enter to currency\n"
     ]
    }
   ],
   "source": [
    "# Part1\n",
    "\n",
    "# Make api call from python & store the resp in a python dict\n",
    "\n",
    "# (2A) Optional: Store the resp dict into a file (json)\n",
    "\n",
    "# Parse the following info from the API Response.\n",
    "\n",
    "# Example: URL\n",
    "\n",
    "# https://min-api.cryptocompare.com/data/price?fsym=USD&tsyms=JPY,INR\n",
    "\n",
    "import requests\n",
    "import time\n",
    "import datetime\n",
    "import json\n",
    "import csv\n",
    "\n",
    "# url =\"https://min-api.cryptocompare.com/data/price?fsym=USD&tsyms=JPY,INR\"\n",
    "fsym = input (\"enter From crrency\")\n",
    "tsym = input(\"enter to currency\")\n",
    "url = f\"https://min-api.cryptocompare.com/data/price?fsym={fsym}&tsyms={tsym}\"\n",
    "\n",
    "\n",
    "# Make api call from python & store the resp in a python dict\n",
    "data = requests.get(url)\n",
    "\n",
    "data1 = data.json()\n",
    "data1\n",
    "\n",
    "# Store that parsed infomation/data into a csv file.\n",
    "timestamp = str(datetime.datetime.now())\n",
    "count =1\n",
    "\n",
    "header = (\"sno\",\"from_symbol\",\"to_symbol\",\"price\",\"datetime\")\n",
    "save_to_csv(header)\n",
    "\n",
    "assert 'Response' not in data, data.get(\"Message\")\n",
    "\n",
    "for d1,d2 in data1.items():   #from dict read using items\n",
    "        content = (count,fsym,tsym,d2,timestamp)\n",
    "        save_to_csv(content)\n",
    "        count += 1"
   ]
  },
  {
   "cell_type": "code",
   "execution_count": 3,
   "metadata": {},
   "outputs": [],
   "source": [
    "import requests\n",
    "\n",
    "url = \"https://www.xe.com/currencyconverter/convert/?Amount=1&From=USD&To=SGD\"\n",
    "# data = requests.get(url)\n",
    "# data.text\n",
    "def open_url_with_selenium_get_html(url):\n",
    "    from selenium import webdriver\n",
    "    driver = webdriver.Chrome()\n",
    "    driver.get(url)\n",
    "    html_data = driver.page_source\n",
    "    driver.close()\n",
    "    return html_data\n"
   ]
  },
  {
   "cell_type": "code",
   "execution_count": 57,
   "metadata": {},
   "outputs": [
    {
     "name": "stdout",
     "output_type": "stream",
     "text": [
      "Collecting selenium\n",
      "  Using cached https://files.pythonhosted.org/packages/80/d6/4294f0b4bce4de0abf13e17190289f9d0613b0a44e5dd6a7f5ca98459853/selenium-3.141.0-py2.py3-none-any.whl\n",
      "Requirement already satisfied: urllib3 in c:\\users\\40203118\\appdata\\local\\continuum\\anaconda3\\lib\\site-packages (from selenium) (1.24.2)\n",
      "Installing collected packages: selenium\n",
      "Successfully installed selenium-3.141.0\n"
     ]
    }
   ],
   "source": [
    "# !pip install selenium"
   ]
  },
  {
   "cell_type": "code",
   "execution_count": 21,
   "metadata": {},
   "outputs": [
    {
     "name": "stdout",
     "output_type": "stream",
     "text": [
      "Enter From Currency : USD\n",
      "Enter To Currency : JPY\n",
      "{1, '2019-09-25 11:14:02.102056', '107.337', 'USD', 'JPY'}\n"
     ]
    }
   ],
   "source": [
    "# Part 2: Scrape static websites\n",
    "import requests\n",
    "from bs4 import BeautifulSoup\n",
    "import datetime\n",
    "import csv\n",
    "count = 0\n",
    "\n",
    "#Get Inputs \n",
    "frmc = input (\"Enter From Currency : \")\n",
    "toc = input (\"Enter To Currency : \")\n",
    "\n",
    "#Set URL\n",
    "url = f'https://www.xe.com/currencyconverter/convert/?Amount=1&From={frmc}&To={toc}'\n",
    "\n",
    "#Scrap Static Website\n",
    "def open_url_with_selenium_get_html(url):\n",
    "    from selenium import webdriver\n",
    "    driver = webdriver.Chrome()\n",
    "    driver.get(url)\n",
    "    html_data = driver.page_source\n",
    "    driver.close()\n",
    "    return html_data\n",
    "\n",
    "data = open_url_with_selenium_get_html(url)\n",
    "#extract the price shown here and save it into a csv file..\n",
    "soup = BeautifulSoup(data,\"html.parser\")\n",
    "price = soup.find('span',attrs ={'class':'converterresult-toAmount'})\n",
    "exchgrate = price.text.strip()\n",
    "\n",
    "#Set Values\n",
    "datecreate  = str(datetime.datetime.now())\n",
    "count += 1\n",
    "content = {count,frmc,toc,exchgrate,datecreate}\n",
    "print(content)\n",
    "#Write into Excel file\n",
    "save_to_csv(content)\n"
   ]
  },
  {
   "cell_type": "code",
   "execution_count": null,
   "metadata": {},
   "outputs": [],
   "source": []
  }
 ],
 "metadata": {
  "kernelspec": {
   "display_name": "Python 3",
   "language": "python",
   "name": "python3"
  },
  "language_info": {
   "codemirror_mode": {
    "name": "ipython",
    "version": 3
   },
   "file_extension": ".py",
   "mimetype": "text/x-python",
   "name": "python",
   "nbconvert_exporter": "python",
   "pygments_lexer": "ipython3",
   "version": "3.7.3"
  }
 },
 "nbformat": 4,
 "nbformat_minor": 2
}
